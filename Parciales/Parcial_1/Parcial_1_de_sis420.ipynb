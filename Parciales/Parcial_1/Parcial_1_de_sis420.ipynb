{
  "nbformat": 4,
  "nbformat_minor": 0,
  "metadata": {
    "colab": {
      "provenance": []
    },
    "kernelspec": {
      "name": "python3",
      "display_name": "Python 3"
    },
    "language_info": {
      "name": "python"
    }
  },
  "cells": [
    {
      "cell_type": "code",
      "execution_count": 1,
      "metadata": {
        "id": "QoBkT1SVfIh6"
      },
      "outputs": [],
      "source": [
        "def mover(punto_estrategico, punto_actual, punto_objetivo):\n",
        "    while (not(punto_estrategico == punto_actual)):\n",
        "        a=1"
      ]
    },
    {
      "cell_type": "code",
      "source": [
        "def buscar_inicio(rompecabezas):\n",
        "    #punto_inicio = []\n",
        "    i,j = -1,-1\n",
        "    for fila in rompecabezas:\n",
        "        i += 1\n",
        "        for dato in fila:\n",
        "            j += 1\n",
        "            if(dato == 0):\n",
        "                punto_inicio = [i,j]\n",
        "                break\n",
        "    return punto_inicio"
      ],
      "metadata": {
        "id": "1dyofqEWfPtL"
      },
      "execution_count": 2,
      "outputs": []
    },
    {
      "cell_type": "code",
      "source": [
        "def buscar_numero(numero_a_buscar, rompecabezas):\n",
        "    #print(\"numero a buscar= \", numero_a_buscar)\n",
        "    list_posiciones = []\n",
        "    i,j = -1,-1\n",
        "    for fila in rompecabezas:\n",
        "        i += 1\n",
        "        j = -1\n",
        "        for dato in fila:\n",
        "            j += 1\n",
        "            if(dato == numero_a_buscar):\n",
        "                list_posiciones.append([i,j])\n",
        "                #print(\"dato encontrado = \",dato, \" posicion = \",[i,j])\n",
        "    #print(\"--------------------\")\n",
        "    return list_posiciones"
      ],
      "metadata": {
        "id": "gd7H06mpfS-V"
      },
      "execution_count": 3,
      "outputs": []
    },
    {
      "cell_type": "code",
      "source": [
        "def elejir_movimiento(punto_de_interes, punto_actual, list_posiciones):\n",
        "    #print(\"Punto de interes = \", punto_de_interes, \" Punto de inicio = \",punto_actual, \" lista de posiciones = \",list_posiciones)\n",
        "    punto_satisfactorio = 0\n",
        "    for punto in list_posiciones:\n",
        "        print(\"De \",punto,\" a \",punto_de_interes, \" donde estoy = \", punto_actual)\n",
        "        if(punto[1] > punto_de_interes[1]):\n",
        "            punto_estrategico = [punto[0],punto[1]-1]\n",
        "        if(punto[1] < punto_de_interes[1]):\n",
        "            punto_estrategico = [punto[0],punto[1]+1]\n",
        "        if(punto[1] == punto_de_interes[1]):\n",
        "            punto_estrategico = [punto[0]-1,punto[1]]\n",
        "\n",
        "        if(punto[0] > punto_de_interes[0]):\n",
        "            sentido = \"superior\"#1\n",
        "        if(punto[0] < punto_de_interes[0]):\n",
        "            sentido = \"inferior\"#2\n",
        "        if(punto[0] == punto_de_interes[0]):\n",
        "            sentido = \"nivelado\"#0\n",
        "        #print(\"Punto estrategico = \",punto_estrategico,\" sentido = \",sentido)"
      ],
      "metadata": {
        "id": "i16ZuQpKfXGq"
      },
      "execution_count": 4,
      "outputs": []
    },
    {
      "cell_type": "code",
      "source": [
        "def procedimiento(rompecabezas):\n",
        "    punto_inicio = buscar_inicio(rompecabezas)\n",
        "    nuemro_de_orden = 1\n",
        "    i,j = -1,-1\n",
        "    for fila in rompecabezas:\n",
        "        i += 1\n",
        "        j = -1\n",
        "        list_posiciones = buscar_numero(i+1,rompecabezas)\n",
        "        for dato in fila:\n",
        "            j += 1\n",
        "            if (dato != nuemro_de_orden):\n",
        "                elejir_movimiento([i,j],punto_inicio, list_posiciones)"
      ],
      "metadata": {
        "id": "DtxpzPUFfaRD"
      },
      "execution_count": 5,
      "outputs": []
    },
    {
      "cell_type": "code",
      "source": [
        "rompecabezas =  [[0, 1, 2, 4, 2]\n",
        "                ,[4, 4, 1, 3, 5]\n",
        "                ,[1, 3, 5, 1, 4]\n",
        "                ,[3, 5, 4, 2, 3]\n",
        "                ,[1, 2, 3, 2, 5]]\n",
        "procedimiento(rompecabezas)"
      ],
      "metadata": {
        "colab": {
          "base_uri": "https://localhost:8080/"
        },
        "id": "2OUd9mMBfdOh",
        "outputId": "c76da921-cdad-45e2-ba75-2fc65fb60860"
      },
      "execution_count": 6,
      "outputs": [
        {
          "output_type": "stream",
          "name": "stdout",
          "text": [
            "De  [0, 1]  a  [0, 0]  donde estoy =  [0, 0]\n",
            "De  [1, 2]  a  [0, 0]  donde estoy =  [0, 0]\n",
            "De  [2, 0]  a  [0, 0]  donde estoy =  [0, 0]\n",
            "De  [2, 3]  a  [0, 0]  donde estoy =  [0, 0]\n",
            "De  [4, 0]  a  [0, 0]  donde estoy =  [0, 0]\n",
            "De  [0, 1]  a  [0, 2]  donde estoy =  [0, 0]\n",
            "De  [1, 2]  a  [0, 2]  donde estoy =  [0, 0]\n",
            "De  [2, 0]  a  [0, 2]  donde estoy =  [0, 0]\n",
            "De  [2, 3]  a  [0, 2]  donde estoy =  [0, 0]\n",
            "De  [4, 0]  a  [0, 2]  donde estoy =  [0, 0]\n",
            "De  [0, 1]  a  [0, 3]  donde estoy =  [0, 0]\n",
            "De  [1, 2]  a  [0, 3]  donde estoy =  [0, 0]\n",
            "De  [2, 0]  a  [0, 3]  donde estoy =  [0, 0]\n",
            "De  [2, 3]  a  [0, 3]  donde estoy =  [0, 0]\n",
            "De  [4, 0]  a  [0, 3]  donde estoy =  [0, 0]\n",
            "De  [0, 1]  a  [0, 4]  donde estoy =  [0, 0]\n",
            "De  [1, 2]  a  [0, 4]  donde estoy =  [0, 0]\n",
            "De  [2, 0]  a  [0, 4]  donde estoy =  [0, 0]\n",
            "De  [2, 3]  a  [0, 4]  donde estoy =  [0, 0]\n",
            "De  [4, 0]  a  [0, 4]  donde estoy =  [0, 0]\n",
            "De  [0, 2]  a  [1, 0]  donde estoy =  [0, 0]\n",
            "De  [0, 4]  a  [1, 0]  donde estoy =  [0, 0]\n",
            "De  [3, 3]  a  [1, 0]  donde estoy =  [0, 0]\n",
            "De  [4, 1]  a  [1, 0]  donde estoy =  [0, 0]\n",
            "De  [4, 3]  a  [1, 0]  donde estoy =  [0, 0]\n",
            "De  [0, 2]  a  [1, 1]  donde estoy =  [0, 0]\n",
            "De  [0, 4]  a  [1, 1]  donde estoy =  [0, 0]\n",
            "De  [3, 3]  a  [1, 1]  donde estoy =  [0, 0]\n",
            "De  [4, 1]  a  [1, 1]  donde estoy =  [0, 0]\n",
            "De  [4, 3]  a  [1, 1]  donde estoy =  [0, 0]\n",
            "De  [0, 2]  a  [1, 3]  donde estoy =  [0, 0]\n",
            "De  [0, 4]  a  [1, 3]  donde estoy =  [0, 0]\n",
            "De  [3, 3]  a  [1, 3]  donde estoy =  [0, 0]\n",
            "De  [4, 1]  a  [1, 3]  donde estoy =  [0, 0]\n",
            "De  [4, 3]  a  [1, 3]  donde estoy =  [0, 0]\n",
            "De  [0, 2]  a  [1, 4]  donde estoy =  [0, 0]\n",
            "De  [0, 4]  a  [1, 4]  donde estoy =  [0, 0]\n",
            "De  [3, 3]  a  [1, 4]  donde estoy =  [0, 0]\n",
            "De  [4, 1]  a  [1, 4]  donde estoy =  [0, 0]\n",
            "De  [4, 3]  a  [1, 4]  donde estoy =  [0, 0]\n",
            "De  [1, 3]  a  [2, 1]  donde estoy =  [0, 0]\n",
            "De  [2, 1]  a  [2, 1]  donde estoy =  [0, 0]\n",
            "De  [3, 0]  a  [2, 1]  donde estoy =  [0, 0]\n",
            "De  [3, 4]  a  [2, 1]  donde estoy =  [0, 0]\n",
            "De  [4, 2]  a  [2, 1]  donde estoy =  [0, 0]\n",
            "De  [1, 3]  a  [2, 2]  donde estoy =  [0, 0]\n",
            "De  [2, 1]  a  [2, 2]  donde estoy =  [0, 0]\n",
            "De  [3, 0]  a  [2, 2]  donde estoy =  [0, 0]\n",
            "De  [3, 4]  a  [2, 2]  donde estoy =  [0, 0]\n",
            "De  [4, 2]  a  [2, 2]  donde estoy =  [0, 0]\n",
            "De  [1, 3]  a  [2, 4]  donde estoy =  [0, 0]\n",
            "De  [2, 1]  a  [2, 4]  donde estoy =  [0, 0]\n",
            "De  [3, 0]  a  [2, 4]  donde estoy =  [0, 0]\n",
            "De  [3, 4]  a  [2, 4]  donde estoy =  [0, 0]\n",
            "De  [4, 2]  a  [2, 4]  donde estoy =  [0, 0]\n",
            "De  [0, 3]  a  [3, 0]  donde estoy =  [0, 0]\n",
            "De  [1, 0]  a  [3, 0]  donde estoy =  [0, 0]\n",
            "De  [1, 1]  a  [3, 0]  donde estoy =  [0, 0]\n",
            "De  [2, 4]  a  [3, 0]  donde estoy =  [0, 0]\n",
            "De  [3, 2]  a  [3, 0]  donde estoy =  [0, 0]\n",
            "De  [0, 3]  a  [3, 1]  donde estoy =  [0, 0]\n",
            "De  [1, 0]  a  [3, 1]  donde estoy =  [0, 0]\n",
            "De  [1, 1]  a  [3, 1]  donde estoy =  [0, 0]\n",
            "De  [2, 4]  a  [3, 1]  donde estoy =  [0, 0]\n",
            "De  [3, 2]  a  [3, 1]  donde estoy =  [0, 0]\n",
            "De  [0, 3]  a  [3, 2]  donde estoy =  [0, 0]\n",
            "De  [1, 0]  a  [3, 2]  donde estoy =  [0, 0]\n",
            "De  [1, 1]  a  [3, 2]  donde estoy =  [0, 0]\n",
            "De  [2, 4]  a  [3, 2]  donde estoy =  [0, 0]\n",
            "De  [3, 2]  a  [3, 2]  donde estoy =  [0, 0]\n",
            "De  [0, 3]  a  [3, 3]  donde estoy =  [0, 0]\n",
            "De  [1, 0]  a  [3, 3]  donde estoy =  [0, 0]\n",
            "De  [1, 1]  a  [3, 3]  donde estoy =  [0, 0]\n",
            "De  [2, 4]  a  [3, 3]  donde estoy =  [0, 0]\n",
            "De  [3, 2]  a  [3, 3]  donde estoy =  [0, 0]\n",
            "De  [0, 3]  a  [3, 4]  donde estoy =  [0, 0]\n",
            "De  [1, 0]  a  [3, 4]  donde estoy =  [0, 0]\n",
            "De  [1, 1]  a  [3, 4]  donde estoy =  [0, 0]\n",
            "De  [2, 4]  a  [3, 4]  donde estoy =  [0, 0]\n",
            "De  [3, 2]  a  [3, 4]  donde estoy =  [0, 0]\n",
            "De  [1, 4]  a  [4, 1]  donde estoy =  [0, 0]\n",
            "De  [2, 2]  a  [4, 1]  donde estoy =  [0, 0]\n",
            "De  [3, 1]  a  [4, 1]  donde estoy =  [0, 0]\n",
            "De  [4, 4]  a  [4, 1]  donde estoy =  [0, 0]\n",
            "De  [1, 4]  a  [4, 2]  donde estoy =  [0, 0]\n",
            "De  [2, 2]  a  [4, 2]  donde estoy =  [0, 0]\n",
            "De  [3, 1]  a  [4, 2]  donde estoy =  [0, 0]\n",
            "De  [4, 4]  a  [4, 2]  donde estoy =  [0, 0]\n",
            "De  [1, 4]  a  [4, 3]  donde estoy =  [0, 0]\n",
            "De  [2, 2]  a  [4, 3]  donde estoy =  [0, 0]\n",
            "De  [3, 1]  a  [4, 3]  donde estoy =  [0, 0]\n",
            "De  [4, 4]  a  [4, 3]  donde estoy =  [0, 0]\n",
            "De  [1, 4]  a  [4, 4]  donde estoy =  [0, 0]\n",
            "De  [2, 2]  a  [4, 4]  donde estoy =  [0, 0]\n",
            "De  [3, 1]  a  [4, 4]  donde estoy =  [0, 0]\n",
            "De  [4, 4]  a  [4, 4]  donde estoy =  [0, 0]\n"
          ]
        }
      ]
    }
  ]
}