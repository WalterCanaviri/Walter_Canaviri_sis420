{
  "nbformat": 4,
  "nbformat_minor": 0,
  "metadata": {
    "colab": {
      "provenance": [],
      "collapsed_sections": [
        "-uo5STC8ECDr",
        "kzBWlv7mEfE9",
        "J7t37D-sEnk-",
        "7hfHOQrlDICA"
      ]
    },
    "kernelspec": {
      "name": "python3",
      "display_name": "Python 3"
    },
    "language_info": {
      "name": "python"
    }
  },
  "cells": [
    {
      "cell_type": "code",
      "execution_count": 171,
      "metadata": {
        "id": "MipaFEqf5B4N"
      },
      "outputs": [],
      "source": [
        "import numpy as np\n",
        "import pandas as pd\n",
        "from matplotlib import pyplot\n",
        "from scipy import optimize"
      ]
    },
    {
      "cell_type": "code",
      "source": [
        "def plotData(x, y):\n",
        "    #Grafica los puntos x e y en una figura nueva. \n",
        "    fig = pyplot.figure()  # abre una nueva figura\n",
        "    pyplot.plot(x, y, 'ro', ms=10, mec='k')\n",
        "    pyplot.ylabel('Beneficio en $10,000')\n",
        "    pyplot.xlabel('Poblacion de una ciudad en 10,000s')"
      ],
      "metadata": {
        "id": "X8uUsNuHnjq0"
      },
      "execution_count": null,
      "outputs": []
    },
    {
      "cell_type": "code",
      "source": [
        "#Tiene que decrecer un 0.01 en la J para saber que esta bienlos datos"
      ],
      "metadata": {
        "id": "bLdABBzfzbwL"
      },
      "execution_count": null,
      "outputs": []
    },
    {
      "cell_type": "markdown",
      "source": [
        "# INICIO DE DATOS"
      ],
      "metadata": {
        "id": "-uo5STC8ECDr"
      }
    },
    {
      "cell_type": "code",
      "source": [
        "#DATASET = \"diabetes_data.\"\n",
        "DATASET = \"BD_Covid.\"\n",
        "Separacion = \",\"\n",
        "Tipo = \"csv\"\n",
        "Nombre_del_DATASET = DATASET+Tipo\n",
        "Nombre_documento = Nombre_del_DATASET"
      ],
      "metadata": {
        "id": "avcy73ZAHcr9"
      },
      "execution_count": 172,
      "outputs": []
    },
    {
      "cell_type": "code",
      "source": [
        "#Se anotaran las columnas que se usaran y el orden\n",
        "#Columnas = [\"Age\", \"Sex\", \"HighChol\", \"CholCheck\", \"BMI\", \"Smoker\", \"HeartDiseaseorAttack\", \"PhysActivity\", \"Fruits\", \"Veggies\", \"HvyAlcoholConsump\", \"GenHlth\", \"MentHlth\", \"PhysHlth\", \"DiffWalk\", \"Stroke\", \"HighBP\", \"Diabetes\"]\n",
        "#Columnas = [\"gravity\", \"ph\", \"osmo\", \"cond\", \"urea\", \"calc\", \"target\"]\n",
        "Columnas = [\"SEX\", \"PATIENT_TYPE\", \"INTUBED\", \"PNEUMONIA\", \"AGE\", \"PREGNANT\", \"DIABETES\", \"COPD\", \"ASTHMA\", \"INMSUPR\", \"HIPERTENSION\", \"OTHER_DISEASE\", \"CARDIOVASCULAR\", \"OBESITY\", \"RENAL_CHRONIC\", \"TOBACCO\", \"ICU\", \"CLASIFFICATION_FINAL\"]\n",
        "\n",
        "#Columnas =[\"USMER\", \"MEDICAL_UNIT\", \"SEX\", \"PATIENT_TYPE\", \"DATE_DIED\" , \"INTUBED\", \"PNEUMONIA\", \"AGE\", \"PREGNANT\", \"DIABETES\", \"COPD\", \"ASTTHMA\", \"INMSUPR\", \"HIPERTENSION\", \"OTHER_DISEASE\", \"CARDIOVASCULAR\", \"OBESITY\", \"RENAL_CHRONIC\", \"TOBACCO\", \"ICU\", \"CLASIFFICATION_FINAL\"]\n",
        "#Se anotara las columnas que no se normalizaran porque ya son numeros y no letras\n",
        "#Excepcion = [\"Age\", \"Sex\", \"HighChol\", \"CholCheck\", \"BMI\", \"Smoker\", \"HeartDiseaseorAttack\", \"PhysActivity\", \"Fruits\", \"Veggies\", \"HvyAlcoholConsump\", \"GenHlth\", \"MentHlth\", \"PhysHlth\", \"DiffWalk\", \"Stroke\", \"HighBP\", \"Diabetes\"]\n",
        "#Excepcion = [\"gravity\", \"ph\", \"osmo\", \"cond\", \"urea\", \"calc\", \"target\"]\n",
        "#Excepcion = [\"SEX\", \"PATIENT_TYPE\", \"INTUBED\", \"PNEUMONIA\", \"AGE\", \"PREGNANT\", \"DIABETES\", \"COPD\", \"ASTHMA\", \"INMSUPR\", \"HIPERTENSION\", \"OTHER_DISEASE\", \"CARDIOVASCULAR\", \"OBESITY\", \"RENAL_CHRONIC\", \"TOBACCO\", \"ICU\", \"CLASIFFICATION_FINAL\"]\n",
        "Excepcion = []"
      ],
      "metadata": {
        "id": "pPqQCH0kGOuq"
      },
      "execution_count": 173,
      "outputs": []
    },
    {
      "cell_type": "markdown",
      "source": [
        "# Normalizacion de Datos"
      ],
      "metadata": {
        "id": "kzBWlv7mEfE9"
      }
    },
    {
      "cell_type": "code",
      "source": [
        "def Reemplazar_Datos(Nuevos_datos, Columna_y_datos):\n",
        "  Auxiliar = []\n",
        "  for igu in Columna_y_datos: #Se sacaran los NOMBRES DE LAS COLUMNAS\n",
        "    Auxiliar = Columna_y_datos[igu] # Se sacaran la lista de tal NOMBRE\n",
        "    diccionario = {}\n",
        "    contador = 1\n",
        "    for dato in Auxiliar:\n",
        "      diccionario[dato[0]] = dato[1] #Se esta llenando el NOMBRE SIN REPETIR (dato[0]) y NUMERO A REEMPLAZAR (dato[1}])\n",
        "    Nuevos_datos[igu] = Nuevos_datos[igu].map(diccionario) #Se reemplazara los datos a numeros para ESA COLUMNA\n",
        "  return Nuevos_datos"
      ],
      "metadata": {
        "id": "IZb4Ebn6pJW1"
      },
      "execution_count": 174,
      "outputs": []
    },
    {
      "cell_type": "code",
      "source": [
        "def Diccionario_filtrar(Nuevos_datos, columnas):\n",
        "  Columna_y_datos = {}\n",
        "  print(columnas)\n",
        "  for col in columnas:\n",
        "    #Se sacan todos los nombres sin repetir para cambiarlos a numeros\n",
        "    print(\"Columna = \",col)\n",
        "    Datos_de_columnas = Nuevos_datos[col].unique()\n",
        "    Iguales = []\n",
        "    contador = 1\n",
        "    for dato in Datos_de_columnas:\n",
        "      print(\"Dato\",dato)\n",
        "      #Se llena la Lista de IGUALES con el nombre sin repetir con el Numero a Reemplazar\n",
        "      if col == \"CLASIFFICATION_FINAL\":\n",
        "        if(dato < 4):\n",
        "          dato = 1\n",
        "        if(dato >= 4):\n",
        "          dato = 0\n",
        "      else:\n",
        "        if dato >= 96:\n",
        "          dato = \"NA\"\n",
        "    #Se llena el Diccionario con el NOMBRE DE LA COLUMNA (col) y NOMBRE SIN REPETIR y NUMERO A REEPLAZAR (Iguales)\n",
        "    Columna_y_datos[col] = Iguales\n",
        "    print(Columna_y_datos[col])\n",
        "  print(\"FIN DE LA FUNCION\")\n",
        "  return(Columna_y_datos)"
      ],
      "metadata": {
        "id": "L4s2meiTm0rQ"
      },
      "execution_count": 175,
      "outputs": []
    },
    {
      "cell_type": "code",
      "source": [
        "def Nom_Col(Nuevos_datos, Excepciones):\n",
        "  Nombre_columnas = Nuevos_datos.columns\n",
        "  columnas = []\n",
        "  for k in  Nombre_columnas:\n",
        "    columnas.append(k)\n",
        "  if (len(Excepciones) > 0):\n",
        "    for exc in Excepciones:\n",
        "      columnas.remove(exc)\n",
        "  return (columnas)"
      ],
      "metadata": {
        "id": "cPxzHnKKkSlr"
      },
      "execution_count": 176,
      "outputs": []
    },
    {
      "cell_type": "code",
      "source": [
        "def Regularizar_Datos(Nombre_DataSet, Columnas, Excepciones, Separador, tipo):\n",
        "  Ruta = \"/content/drive/MyDrive/Inteligencia_Artificial_Sis420/Examen/\"+Nombre_DataSet\n",
        "  #1 = Si tiene nombre de columnas\n",
        "  if(tipo == \"csv\"):\n",
        "    Datos_Originales = pd.read_csv(Ruta)\n",
        "  elif(tipo == \"txt\"):\n",
        "    Datos_Originales = pd.read_table(Ruta, sep = Separador)\n",
        "    \n",
        "  Datos = Datos_Originales.loc[:,Columnas]\n",
        "  Nuevos_datos = Datos.dropna()\n",
        "  Nombre_Columnas = Nom_Col(Nuevos_datos,Excepciones)\n",
        "  print(\"Nombre_Columnas = \",Nombre_Columnas)\n",
        "  Columna_y_datos = Diccionario_filtrar(Nuevos_datos, Nombre_Columnas)\n",
        "  print(\"INICIO\")\n",
        "  print(len(Columna_y_datos))\n",
        "  print(\"FIN\")\n",
        "  Nuevos_datos = Reemplazar_Datos(Nuevos_datos, Columna_y_datos)\n",
        "  return Nuevos_datos"
      ],
      "metadata": {
        "id": "pjw53Y2fK6Wn"
      },
      "execution_count": 177,
      "outputs": []
    },
    {
      "cell_type": "code",
      "source": [
        "#-----------------------------------------------------------------------------------------------------------------------------------------\n",
        "Nuevos_datos = {}\n",
        "Nuevos_datos = Regularizar_Datos(Nombre_del_DATASET, Columnas, Excepcion, Separacion, Tipo)\n",
        "#-----------------------------------------------------------------------------------------------------------------------------------------"
      ],
      "metadata": {
        "id": "69aHZv9Njey-",
        "colab": {
          "base_uri": "https://localhost:8080/"
        },
        "outputId": "48bfe24f-8ae2-401d-f558-f73b71a002a4"
      },
      "execution_count": 178,
      "outputs": [
        {
          "output_type": "stream",
          "name": "stdout",
          "text": [
            "tamaño de NOMBRE COLUMNAS= 18\n",
            "Nombre_Columnas =  ['SEX', 'PATIENT_TYPE', 'INTUBED', 'PNEUMONIA', 'AGE', 'PREGNANT', 'DIABETES', 'COPD', 'ASTHMA', 'INMSUPR', 'HIPERTENSION', 'OTHER_DISEASE', 'CARDIOVASCULAR', 'OBESITY', 'RENAL_CHRONIC', 'TOBACCO', 'ICU', 'CLASIFFICATION_FINAL']\n",
            "['SEX', 'PATIENT_TYPE', 'INTUBED', 'PNEUMONIA', 'AGE', 'PREGNANT', 'DIABETES', 'COPD', 'ASTHMA', 'INMSUPR', 'HIPERTENSION', 'OTHER_DISEASE', 'CARDIOVASCULAR', 'OBESITY', 'RENAL_CHRONIC', 'TOBACCO', 'ICU', 'CLASIFFICATION_FINAL']\n",
            "Columna =  SEX\n",
            "Dato 1\n",
            "Dato 2\n",
            "[]\n",
            "Columna =  PATIENT_TYPE\n",
            "Dato 1\n",
            "Dato 2\n",
            "[]\n",
            "Columna =  INTUBED\n",
            "Dato 97\n",
            "Dato 1\n",
            "Dato 2\n",
            "Dato 99\n",
            "[]\n",
            "Columna =  PNEUMONIA\n",
            "Dato 1\n",
            "Dato 2\n",
            "Dato 99\n",
            "[]\n",
            "Columna =  AGE\n",
            "Dato 65\n",
            "Dato 72\n",
            "Dato 55\n",
            "Dato 53\n",
            "Dato 68\n",
            "Dato 40\n",
            "Dato 64\n",
            "Dato 37\n",
            "Dato 25\n",
            "Dato 38\n",
            "Dato 24\n",
            "Dato 30\n",
            "Dato 48\n",
            "Dato 23\n",
            "Dato 80\n",
            "Dato 61\n",
            "Dato 54\n",
            "Dato 59\n",
            "Dato 45\n",
            "Dato 26\n",
            "Dato 32\n",
            "Dato 49\n",
            "Dato 39\n",
            "Dato 27\n",
            "Dato 57\n",
            "Dato 20\n",
            "Dato 56\n",
            "Dato 47\n",
            "Dato 50\n",
            "Dato 46\n",
            "Dato 43\n",
            "Dato 28\n",
            "Dato 33\n",
            "Dato 16\n",
            "Dato 62\n",
            "Dato 58\n",
            "Dato 36\n",
            "Dato 44\n",
            "Dato 66\n",
            "Dato 52\n",
            "Dato 51\n",
            "Dato 35\n",
            "Dato 19\n",
            "Dato 90\n",
            "Dato 34\n",
            "Dato 22\n",
            "Dato 29\n",
            "Dato 14\n",
            "Dato 31\n",
            "Dato 42\n",
            "Dato 15\n",
            "Dato 1\n",
            "Dato 0\n",
            "Dato 17\n",
            "Dato 41\n",
            "Dato 2\n",
            "Dato 10\n",
            "Dato 12\n",
            "Dato 13\n",
            "Dato 4\n",
            "Dato 7\n",
            "Dato 6\n",
            "Dato 8\n",
            "Dato 60\n",
            "Dato 5\n",
            "Dato 63\n",
            "Dato 75\n",
            "Dato 81\n",
            "Dato 67\n",
            "Dato 18\n",
            "Dato 70\n",
            "Dato 88\n",
            "Dato 85\n",
            "Dato 92\n",
            "Dato 73\n",
            "Dato 74\n",
            "Dato 78\n",
            "Dato 76\n",
            "Dato 82\n",
            "Dato 77\n",
            "Dato 86\n",
            "Dato 71\n",
            "Dato 95\n",
            "Dato 87\n",
            "Dato 83\n",
            "Dato 84\n",
            "Dato 79\n",
            "Dato 69\n",
            "Dato 89\n",
            "Dato 3\n",
            "Dato 97\n",
            "Dato 93\n",
            "Dato 100\n",
            "Dato 91\n",
            "Dato 21\n",
            "Dato 103\n",
            "Dato 11\n",
            "Dato 9\n",
            "Dato 94\n",
            "Dato 96\n",
            "Dato 101\n",
            "Dato 107\n",
            "Dato 102\n",
            "Dato 98\n",
            "Dato 99\n",
            "Dato 109\n",
            "Dato 119\n",
            "Dato 116\n",
            "Dato 105\n",
            "Dato 104\n",
            "Dato 111\n",
            "Dato 114\n",
            "Dato 120\n",
            "Dato 106\n",
            "Dato 108\n",
            "Dato 110\n",
            "Dato 118\n",
            "Dato 117\n",
            "Dato 121\n",
            "Dato 115\n",
            "Dato 113\n",
            "[]\n",
            "Columna =  PREGNANT\n",
            "Dato 2\n",
            "Dato 97\n",
            "Dato 98\n",
            "Dato 1\n",
            "[]\n",
            "Columna =  DIABETES\n",
            "Dato 2\n",
            "Dato 1\n",
            "Dato 98\n",
            "[]\n",
            "Columna =  COPD\n",
            "Dato 2\n",
            "Dato 1\n",
            "Dato 98\n",
            "[]\n",
            "Columna =  ASTHMA\n",
            "Dato 2\n",
            "Dato 1\n",
            "Dato 98\n",
            "[]\n",
            "Columna =  INMSUPR\n",
            "Dato 2\n",
            "Dato 1\n",
            "Dato 98\n",
            "[]\n",
            "Columna =  HIPERTENSION\n",
            "Dato 1\n",
            "Dato 2\n",
            "Dato 98\n",
            "[]\n",
            "Columna =  OTHER_DISEASE\n",
            "Dato 2\n",
            "Dato 1\n",
            "Dato 98\n",
            "[]\n",
            "Columna =  CARDIOVASCULAR\n",
            "Dato 2\n",
            "Dato 1\n",
            "Dato 98\n",
            "[]\n",
            "Columna =  OBESITY\n",
            "Dato 2\n",
            "Dato 1\n",
            "Dato 98\n",
            "[]\n",
            "Columna =  RENAL_CHRONIC\n",
            "Dato 2\n",
            "Dato 1\n",
            "Dato 98\n",
            "[]\n",
            "Columna =  TOBACCO\n",
            "Dato 2\n",
            "Dato 1\n",
            "Dato 98\n",
            "[]\n",
            "Columna =  ICU\n",
            "Dato 97\n",
            "Dato 2\n",
            "Dato 1\n",
            "Dato 99\n",
            "[]\n",
            "Columna =  CLASIFFICATION_FINAL\n",
            "Dato 3\n",
            "Dato 5\n",
            "Dato 7\n",
            "Dato 6\n",
            "Dato 1\n",
            "Dato 2\n",
            "Dato 4\n",
            "[]\n",
            "FIN DE LA FUNCION\n",
            "INICIO\n",
            "18\n",
            "FIN\n"
          ]
        }
      ]
    },
    {
      "cell_type": "code",
      "source": [
        "Nombre_documento = \"Nuevo_\"+DATASET+\"txt\"\n",
        "Nuevos_datos.to_csv(Nombre_documento, index=0, header = 0)"
      ],
      "metadata": {
        "id": "YVCr0UOASh-E"
      },
      "execution_count": 179,
      "outputs": []
    },
    {
      "cell_type": "code",
      "source": [
        "Nuevos_datos"
      ],
      "metadata": {
        "id": "KtdTAnpg6zGl",
        "outputId": "6f73e216-0012-4cdd-ee1e-245da377a765",
        "colab": {
          "base_uri": "https://localhost:8080/",
          "height": 487
        }
      },
      "execution_count": 180,
      "outputs": [
        {
          "output_type": "execute_result",
          "data": {
            "text/plain": [
              "         SEX  PATIENT_TYPE  INTUBED  PNEUMONIA  AGE  PREGNANT  DIABETES  COPD  \\\n",
              "0        NaN           NaN      NaN        NaN  NaN       NaN       NaN   NaN   \n",
              "1        NaN           NaN      NaN        NaN  NaN       NaN       NaN   NaN   \n",
              "2        NaN           NaN      NaN        NaN  NaN       NaN       NaN   NaN   \n",
              "3        NaN           NaN      NaN        NaN  NaN       NaN       NaN   NaN   \n",
              "4        NaN           NaN      NaN        NaN  NaN       NaN       NaN   NaN   \n",
              "...      ...           ...      ...        ...  ...       ...       ...   ...   \n",
              "1048570  NaN           NaN      NaN        NaN  NaN       NaN       NaN   NaN   \n",
              "1048571  NaN           NaN      NaN        NaN  NaN       NaN       NaN   NaN   \n",
              "1048572  NaN           NaN      NaN        NaN  NaN       NaN       NaN   NaN   \n",
              "1048573  NaN           NaN      NaN        NaN  NaN       NaN       NaN   NaN   \n",
              "1048574  NaN           NaN      NaN        NaN  NaN       NaN       NaN   NaN   \n",
              "\n",
              "         ASTHMA  INMSUPR  HIPERTENSION  OTHER_DISEASE  CARDIOVASCULAR  \\\n",
              "0           NaN      NaN           NaN            NaN             NaN   \n",
              "1           NaN      NaN           NaN            NaN             NaN   \n",
              "2           NaN      NaN           NaN            NaN             NaN   \n",
              "3           NaN      NaN           NaN            NaN             NaN   \n",
              "4           NaN      NaN           NaN            NaN             NaN   \n",
              "...         ...      ...           ...            ...             ...   \n",
              "1048570     NaN      NaN           NaN            NaN             NaN   \n",
              "1048571     NaN      NaN           NaN            NaN             NaN   \n",
              "1048572     NaN      NaN           NaN            NaN             NaN   \n",
              "1048573     NaN      NaN           NaN            NaN             NaN   \n",
              "1048574     NaN      NaN           NaN            NaN             NaN   \n",
              "\n",
              "         OBESITY  RENAL_CHRONIC  TOBACCO  ICU  CLASIFFICATION_FINAL  \n",
              "0            NaN            NaN      NaN  NaN                   NaN  \n",
              "1            NaN            NaN      NaN  NaN                   NaN  \n",
              "2            NaN            NaN      NaN  NaN                   NaN  \n",
              "3            NaN            NaN      NaN  NaN                   NaN  \n",
              "4            NaN            NaN      NaN  NaN                   NaN  \n",
              "...          ...            ...      ...  ...                   ...  \n",
              "1048570      NaN            NaN      NaN  NaN                   NaN  \n",
              "1048571      NaN            NaN      NaN  NaN                   NaN  \n",
              "1048572      NaN            NaN      NaN  NaN                   NaN  \n",
              "1048573      NaN            NaN      NaN  NaN                   NaN  \n",
              "1048574      NaN            NaN      NaN  NaN                   NaN  \n",
              "\n",
              "[1048575 rows x 18 columns]"
            ],
            "text/html": [
              "\n",
              "  <div id=\"df-b1272f61-f91c-4ac0-ac52-81e2096bd567\">\n",
              "    <div class=\"colab-df-container\">\n",
              "      <div>\n",
              "<style scoped>\n",
              "    .dataframe tbody tr th:only-of-type {\n",
              "        vertical-align: middle;\n",
              "    }\n",
              "\n",
              "    .dataframe tbody tr th {\n",
              "        vertical-align: top;\n",
              "    }\n",
              "\n",
              "    .dataframe thead th {\n",
              "        text-align: right;\n",
              "    }\n",
              "</style>\n",
              "<table border=\"1\" class=\"dataframe\">\n",
              "  <thead>\n",
              "    <tr style=\"text-align: right;\">\n",
              "      <th></th>\n",
              "      <th>SEX</th>\n",
              "      <th>PATIENT_TYPE</th>\n",
              "      <th>INTUBED</th>\n",
              "      <th>PNEUMONIA</th>\n",
              "      <th>AGE</th>\n",
              "      <th>PREGNANT</th>\n",
              "      <th>DIABETES</th>\n",
              "      <th>COPD</th>\n",
              "      <th>ASTHMA</th>\n",
              "      <th>INMSUPR</th>\n",
              "      <th>HIPERTENSION</th>\n",
              "      <th>OTHER_DISEASE</th>\n",
              "      <th>CARDIOVASCULAR</th>\n",
              "      <th>OBESITY</th>\n",
              "      <th>RENAL_CHRONIC</th>\n",
              "      <th>TOBACCO</th>\n",
              "      <th>ICU</th>\n",
              "      <th>CLASIFFICATION_FINAL</th>\n",
              "    </tr>\n",
              "  </thead>\n",
              "  <tbody>\n",
              "    <tr>\n",
              "      <th>0</th>\n",
              "      <td>NaN</td>\n",
              "      <td>NaN</td>\n",
              "      <td>NaN</td>\n",
              "      <td>NaN</td>\n",
              "      <td>NaN</td>\n",
              "      <td>NaN</td>\n",
              "      <td>NaN</td>\n",
              "      <td>NaN</td>\n",
              "      <td>NaN</td>\n",
              "      <td>NaN</td>\n",
              "      <td>NaN</td>\n",
              "      <td>NaN</td>\n",
              "      <td>NaN</td>\n",
              "      <td>NaN</td>\n",
              "      <td>NaN</td>\n",
              "      <td>NaN</td>\n",
              "      <td>NaN</td>\n",
              "      <td>NaN</td>\n",
              "    </tr>\n",
              "    <tr>\n",
              "      <th>1</th>\n",
              "      <td>NaN</td>\n",
              "      <td>NaN</td>\n",
              "      <td>NaN</td>\n",
              "      <td>NaN</td>\n",
              "      <td>NaN</td>\n",
              "      <td>NaN</td>\n",
              "      <td>NaN</td>\n",
              "      <td>NaN</td>\n",
              "      <td>NaN</td>\n",
              "      <td>NaN</td>\n",
              "      <td>NaN</td>\n",
              "      <td>NaN</td>\n",
              "      <td>NaN</td>\n",
              "      <td>NaN</td>\n",
              "      <td>NaN</td>\n",
              "      <td>NaN</td>\n",
              "      <td>NaN</td>\n",
              "      <td>NaN</td>\n",
              "    </tr>\n",
              "    <tr>\n",
              "      <th>2</th>\n",
              "      <td>NaN</td>\n",
              "      <td>NaN</td>\n",
              "      <td>NaN</td>\n",
              "      <td>NaN</td>\n",
              "      <td>NaN</td>\n",
              "      <td>NaN</td>\n",
              "      <td>NaN</td>\n",
              "      <td>NaN</td>\n",
              "      <td>NaN</td>\n",
              "      <td>NaN</td>\n",
              "      <td>NaN</td>\n",
              "      <td>NaN</td>\n",
              "      <td>NaN</td>\n",
              "      <td>NaN</td>\n",
              "      <td>NaN</td>\n",
              "      <td>NaN</td>\n",
              "      <td>NaN</td>\n",
              "      <td>NaN</td>\n",
              "    </tr>\n",
              "    <tr>\n",
              "      <th>3</th>\n",
              "      <td>NaN</td>\n",
              "      <td>NaN</td>\n",
              "      <td>NaN</td>\n",
              "      <td>NaN</td>\n",
              "      <td>NaN</td>\n",
              "      <td>NaN</td>\n",
              "      <td>NaN</td>\n",
              "      <td>NaN</td>\n",
              "      <td>NaN</td>\n",
              "      <td>NaN</td>\n",
              "      <td>NaN</td>\n",
              "      <td>NaN</td>\n",
              "      <td>NaN</td>\n",
              "      <td>NaN</td>\n",
              "      <td>NaN</td>\n",
              "      <td>NaN</td>\n",
              "      <td>NaN</td>\n",
              "      <td>NaN</td>\n",
              "    </tr>\n",
              "    <tr>\n",
              "      <th>4</th>\n",
              "      <td>NaN</td>\n",
              "      <td>NaN</td>\n",
              "      <td>NaN</td>\n",
              "      <td>NaN</td>\n",
              "      <td>NaN</td>\n",
              "      <td>NaN</td>\n",
              "      <td>NaN</td>\n",
              "      <td>NaN</td>\n",
              "      <td>NaN</td>\n",
              "      <td>NaN</td>\n",
              "      <td>NaN</td>\n",
              "      <td>NaN</td>\n",
              "      <td>NaN</td>\n",
              "      <td>NaN</td>\n",
              "      <td>NaN</td>\n",
              "      <td>NaN</td>\n",
              "      <td>NaN</td>\n",
              "      <td>NaN</td>\n",
              "    </tr>\n",
              "    <tr>\n",
              "      <th>...</th>\n",
              "      <td>...</td>\n",
              "      <td>...</td>\n",
              "      <td>...</td>\n",
              "      <td>...</td>\n",
              "      <td>...</td>\n",
              "      <td>...</td>\n",
              "      <td>...</td>\n",
              "      <td>...</td>\n",
              "      <td>...</td>\n",
              "      <td>...</td>\n",
              "      <td>...</td>\n",
              "      <td>...</td>\n",
              "      <td>...</td>\n",
              "      <td>...</td>\n",
              "      <td>...</td>\n",
              "      <td>...</td>\n",
              "      <td>...</td>\n",
              "      <td>...</td>\n",
              "    </tr>\n",
              "    <tr>\n",
              "      <th>1048570</th>\n",
              "      <td>NaN</td>\n",
              "      <td>NaN</td>\n",
              "      <td>NaN</td>\n",
              "      <td>NaN</td>\n",
              "      <td>NaN</td>\n",
              "      <td>NaN</td>\n",
              "      <td>NaN</td>\n",
              "      <td>NaN</td>\n",
              "      <td>NaN</td>\n",
              "      <td>NaN</td>\n",
              "      <td>NaN</td>\n",
              "      <td>NaN</td>\n",
              "      <td>NaN</td>\n",
              "      <td>NaN</td>\n",
              "      <td>NaN</td>\n",
              "      <td>NaN</td>\n",
              "      <td>NaN</td>\n",
              "      <td>NaN</td>\n",
              "    </tr>\n",
              "    <tr>\n",
              "      <th>1048571</th>\n",
              "      <td>NaN</td>\n",
              "      <td>NaN</td>\n",
              "      <td>NaN</td>\n",
              "      <td>NaN</td>\n",
              "      <td>NaN</td>\n",
              "      <td>NaN</td>\n",
              "      <td>NaN</td>\n",
              "      <td>NaN</td>\n",
              "      <td>NaN</td>\n",
              "      <td>NaN</td>\n",
              "      <td>NaN</td>\n",
              "      <td>NaN</td>\n",
              "      <td>NaN</td>\n",
              "      <td>NaN</td>\n",
              "      <td>NaN</td>\n",
              "      <td>NaN</td>\n",
              "      <td>NaN</td>\n",
              "      <td>NaN</td>\n",
              "    </tr>\n",
              "    <tr>\n",
              "      <th>1048572</th>\n",
              "      <td>NaN</td>\n",
              "      <td>NaN</td>\n",
              "      <td>NaN</td>\n",
              "      <td>NaN</td>\n",
              "      <td>NaN</td>\n",
              "      <td>NaN</td>\n",
              "      <td>NaN</td>\n",
              "      <td>NaN</td>\n",
              "      <td>NaN</td>\n",
              "      <td>NaN</td>\n",
              "      <td>NaN</td>\n",
              "      <td>NaN</td>\n",
              "      <td>NaN</td>\n",
              "      <td>NaN</td>\n",
              "      <td>NaN</td>\n",
              "      <td>NaN</td>\n",
              "      <td>NaN</td>\n",
              "      <td>NaN</td>\n",
              "    </tr>\n",
              "    <tr>\n",
              "      <th>1048573</th>\n",
              "      <td>NaN</td>\n",
              "      <td>NaN</td>\n",
              "      <td>NaN</td>\n",
              "      <td>NaN</td>\n",
              "      <td>NaN</td>\n",
              "      <td>NaN</td>\n",
              "      <td>NaN</td>\n",
              "      <td>NaN</td>\n",
              "      <td>NaN</td>\n",
              "      <td>NaN</td>\n",
              "      <td>NaN</td>\n",
              "      <td>NaN</td>\n",
              "      <td>NaN</td>\n",
              "      <td>NaN</td>\n",
              "      <td>NaN</td>\n",
              "      <td>NaN</td>\n",
              "      <td>NaN</td>\n",
              "      <td>NaN</td>\n",
              "    </tr>\n",
              "    <tr>\n",
              "      <th>1048574</th>\n",
              "      <td>NaN</td>\n",
              "      <td>NaN</td>\n",
              "      <td>NaN</td>\n",
              "      <td>NaN</td>\n",
              "      <td>NaN</td>\n",
              "      <td>NaN</td>\n",
              "      <td>NaN</td>\n",
              "      <td>NaN</td>\n",
              "      <td>NaN</td>\n",
              "      <td>NaN</td>\n",
              "      <td>NaN</td>\n",
              "      <td>NaN</td>\n",
              "      <td>NaN</td>\n",
              "      <td>NaN</td>\n",
              "      <td>NaN</td>\n",
              "      <td>NaN</td>\n",
              "      <td>NaN</td>\n",
              "      <td>NaN</td>\n",
              "    </tr>\n",
              "  </tbody>\n",
              "</table>\n",
              "<p>1048575 rows × 18 columns</p>\n",
              "</div>\n",
              "      <button class=\"colab-df-convert\" onclick=\"convertToInteractive('df-b1272f61-f91c-4ac0-ac52-81e2096bd567')\"\n",
              "              title=\"Convert this dataframe to an interactive table.\"\n",
              "              style=\"display:none;\">\n",
              "        \n",
              "  <svg xmlns=\"http://www.w3.org/2000/svg\" height=\"24px\"viewBox=\"0 0 24 24\"\n",
              "       width=\"24px\">\n",
              "    <path d=\"M0 0h24v24H0V0z\" fill=\"none\"/>\n",
              "    <path d=\"M18.56 5.44l.94 2.06.94-2.06 2.06-.94-2.06-.94-.94-2.06-.94 2.06-2.06.94zm-11 1L8.5 8.5l.94-2.06 2.06-.94-2.06-.94L8.5 2.5l-.94 2.06-2.06.94zm10 10l.94 2.06.94-2.06 2.06-.94-2.06-.94-.94-2.06-.94 2.06-2.06.94z\"/><path d=\"M17.41 7.96l-1.37-1.37c-.4-.4-.92-.59-1.43-.59-.52 0-1.04.2-1.43.59L10.3 9.45l-7.72 7.72c-.78.78-.78 2.05 0 2.83L4 21.41c.39.39.9.59 1.41.59.51 0 1.02-.2 1.41-.59l7.78-7.78 2.81-2.81c.8-.78.8-2.07 0-2.86zM5.41 20L4 18.59l7.72-7.72 1.47 1.35L5.41 20z\"/>\n",
              "  </svg>\n",
              "      </button>\n",
              "      \n",
              "  <style>\n",
              "    .colab-df-container {\n",
              "      display:flex;\n",
              "      flex-wrap:wrap;\n",
              "      gap: 12px;\n",
              "    }\n",
              "\n",
              "    .colab-df-convert {\n",
              "      background-color: #E8F0FE;\n",
              "      border: none;\n",
              "      border-radius: 50%;\n",
              "      cursor: pointer;\n",
              "      display: none;\n",
              "      fill: #1967D2;\n",
              "      height: 32px;\n",
              "      padding: 0 0 0 0;\n",
              "      width: 32px;\n",
              "    }\n",
              "\n",
              "    .colab-df-convert:hover {\n",
              "      background-color: #E2EBFA;\n",
              "      box-shadow: 0px 1px 2px rgba(60, 64, 67, 0.3), 0px 1px 3px 1px rgba(60, 64, 67, 0.15);\n",
              "      fill: #174EA6;\n",
              "    }\n",
              "\n",
              "    [theme=dark] .colab-df-convert {\n",
              "      background-color: #3B4455;\n",
              "      fill: #D2E3FC;\n",
              "    }\n",
              "\n",
              "    [theme=dark] .colab-df-convert:hover {\n",
              "      background-color: #434B5C;\n",
              "      box-shadow: 0px 1px 3px 1px rgba(0, 0, 0, 0.15);\n",
              "      filter: drop-shadow(0px 1px 2px rgba(0, 0, 0, 0.3));\n",
              "      fill: #FFFFFF;\n",
              "    }\n",
              "  </style>\n",
              "\n",
              "      <script>\n",
              "        const buttonEl =\n",
              "          document.querySelector('#df-b1272f61-f91c-4ac0-ac52-81e2096bd567 button.colab-df-convert');\n",
              "        buttonEl.style.display =\n",
              "          google.colab.kernel.accessAllowed ? 'block' : 'none';\n",
              "\n",
              "        async function convertToInteractive(key) {\n",
              "          const element = document.querySelector('#df-b1272f61-f91c-4ac0-ac52-81e2096bd567');\n",
              "          const dataTable =\n",
              "            await google.colab.kernel.invokeFunction('convertToInteractive',\n",
              "                                                     [key], {});\n",
              "          if (!dataTable) return;\n",
              "\n",
              "          const docLinkHtml = 'Like what you see? Visit the ' +\n",
              "            '<a target=\"_blank\" href=https://colab.research.google.com/notebooks/data_table.ipynb>data table notebook</a>'\n",
              "            + ' to learn more about interactive tables.';\n",
              "          element.innerHTML = '';\n",
              "          dataTable['output_type'] = 'display_data';\n",
              "          await google.colab.output.renderOutput(dataTable, element);\n",
              "          const docLink = document.createElement('div');\n",
              "          docLink.innerHTML = docLinkHtml;\n",
              "          element.appendChild(docLink);\n",
              "        }\n",
              "      </script>\n",
              "    </div>\n",
              "  </div>\n",
              "  "
            ]
          },
          "metadata": {},
          "execution_count": 180
        }
      ]
    },
    {
      "cell_type": "markdown",
      "source": [
        "# Inicio de Datos"
      ],
      "metadata": {
        "id": "IQBwAsM4Y2kb"
      }
    },
    {
      "cell_type": "code",
      "source": [
        "data = np.loadtxt(Nombre_documento,  delimiter=Separacion)\n",
        "Tamaño_de_columnas = len(Columnas)-1\n",
        "X = data[:, :Tamaño_de_columnas]\n",
        "y = data[:, Tamaño_de_columnas]\n",
        "m, n = X.shape\n",
        "#Pronostico, el 1 se deja\n",
        "#X_array = [1, 1650, 3]\n",
        "#X_array = [1,12.0,1.0,1.0,1.0,26.0,1.0,0.0,0.0,1.0,0.0,0.0,3.0,0.0,0.0,0.0,1.0,1.0]\n",
        "#X_array = [1,7.0,1.0,1.0,1.0,45.0,1.0,1.0,1.0,1.0,0.0,0.0,4.0,2.0,5.0,1.0,0.0,1.0]\n",
        "X_array = [1,2,2,1,2,55,97,1,2,2,2,2,2,2,2,2,2,2,3]\n",
        "\n",
        "# Elegir algun valor para alpha (probar varias alternativas)\n",
        "alpha = 0.00001\n",
        "#num_iters = 15000\n",
        "num_iters = 500\n",
        "# inicializa theta y ejecuta el descenso por el gradiente\n",
        "theta = np.zeros(Tamaño_de_columnas+1)"
      ],
      "metadata": {
        "id": "ASOVgz-hG03u"
      },
      "execution_count": null,
      "outputs": []
    },
    {
      "cell_type": "markdown",
      "source": [
        "# Regresion lineal simple"
      ],
      "metadata": {
        "id": "J7t37D-sEnk-"
      }
    },
    {
      "cell_type": "code",
      "source": [
        "def computeCost(X, y, theta):\n",
        "    m = y.size  # numero de ejemplos de entrenamiento\n",
        "    J = 0\n",
        "    h = np.dot(X, theta)\n",
        "    J = (1/(2 * m)) * np.sum(np.square(np.dot(X, theta) - y))\n",
        "    return J"
      ],
      "metadata": {
        "id": "wZzV-3Z9nm0d"
      },
      "execution_count": null,
      "outputs": []
    },
    {
      "cell_type": "code",
      "source": [
        "def gradientDescent(X, y, theta, alpha, num_iters):\n",
        "    m = y.shape[0]  # numero de ejemplos de entrenamiento #Podria decirses que saca el tamaño de Y(que es 97 datos)\n",
        "    theta = theta.copy()\n",
        "    J_history = [] # Lista que se utiliza para almacenar el costo en cada iteración\n",
        "    for i in range(num_iters):\n",
        "        theta = theta - (alpha / m) * (np.dot(X, theta) - y).dot(X)\n",
        "        J_history.append(computeCost(X, y, theta))\n",
        "    return theta, J_history"
      ],
      "metadata": {
        "id": "7mPFH1nxnmt_"
      },
      "execution_count": null,
      "outputs": []
    },
    {
      "cell_type": "code",
      "source": [
        "#-----------------------------------------------------------------------------------------------------------------------------------------\n",
        "data = np.loadtxt(\"ex1data1.txt\",  delimiter=',')\n",
        "X, y = data[:, 0], data[:, 1]\n",
        "m = y.size  # m = numero de ejemplos de entrenamiento\n",
        "#[[1,4.5145], [1,5.1544] ... ] Coloca 1 en la columna 0\n",
        "X = np.stack([np.ones(m), X], axis=1)\n",
        "\n",
        "# inicializa los parametros de ajuste\n",
        "theta = np.zeros(2)\n",
        "# configuraciones para el descenso por el gradiente\n",
        "iterations = 15000\n",
        "alpha = 0.01\n",
        "\n",
        "theta, J_history = gradientDescent(X ,y, theta, alpha, iterations)\n",
        "print('Theta encontrada por descenso gradiente: {:.4f}, {:.4f}'.format(*theta))\n",
        "#print('Valores theta esperados (aproximadamente): [-3.6303, 1.1664]')\n",
        "#-----------------------------------------------------------------------------------------------------------------------------------------"
      ],
      "metadata": {
        "colab": {
          "base_uri": "https://localhost:8080/"
        },
        "id": "M4gZm5-0n0bi",
        "outputId": "c521cfcb-1bc6-45dd-a359-fa8a3f570abf"
      },
      "execution_count": null,
      "outputs": [
        {
          "output_type": "stream",
          "name": "stdout",
          "text": [
            "Theta encontrada por descenso gradiente: -3.8958, 1.1930\n",
            "Valores theta esperados (aproximadamente): [-3.6303, 1.1664]\n"
          ]
        }
      ]
    },
    {
      "cell_type": "code",
      "source": [
        "# grafica la linea de ajuste\n",
        "plotData(X[:, 1], y)\n",
        "pyplot.plot(X[:, 1], np.dot(X, theta), '-')\n",
        "pyplot.legend(['Datos de entrenamiento', 'Regresión lineal']);"
      ],
      "metadata": {
        "colab": {
          "base_uri": "https://localhost:8080/",
          "height": 280
        },
        "id": "60MXcGIQn6Zc",
        "outputId": "c8b5b1be-8be6-4307-8a41-041bac5e6d39"
      },
      "execution_count": null,
      "outputs": [
        {
          "output_type": "display_data",
          "data": {
            "text/plain": [
              "<Figure size 432x288 with 1 Axes>"
            ],
            "image/png": "[encoded data removed]"
          },
          "metadata": {
            "needs_background": "light"
          }
        }
      ]
    },
    {
      "cell_type": "code",
      "source": [
        "pyplot.plot(range(0,iterations), J_history)\n",
        "pyplot.legend(['Numeros de Iteraciones', 'Historial de J']);"
      ],
      "metadata": {
        "colab": {
          "base_uri": "https://localhost:8080/",
          "height": 265
        },
        "id": "zn1TxYaJn9wg",
        "outputId": "fdd6c972-ed7a-4da1-c5fa-bb06b5fde609"
      },
      "execution_count": null,
      "outputs": [
        {
          "output_type": "display_data",
          "data": {
            "text/plain": [
              "<Figure size 432x288 with 1 Axes>"
            ],
            "image/png": "[encoded data removed]"
          },
          "metadata": {
            "needs_background": "light"
          }
        }
      ]
    },
    {
      "cell_type": "code",
      "source": [
        "# Predecir valores de beneficio para poblaciones de 35,000 y 70,000\n",
        "predict1 = np.dot([1, 3.5], theta)\n",
        "print('Para una población = 35,000, se predice un beneficio de {:.2f}\\n'.format(predict1*10000))\n",
        "\n",
        "predict2 = np.dot([1, 9], theta)\n",
        "print('Para una población de = 90,000, se predice un beneficio de {:.2f}\\n'.format(predict2*10000))"
      ],
      "metadata": {
        "colab": {
          "base_uri": "https://localhost:8080/"
        },
        "id": "MXcus0h3xh_i",
        "outputId": "df90e3d4-5846-4dd3-fcf6-96530af57102"
      },
      "execution_count": null,
      "outputs": [
        {
          "output_type": "stream",
          "name": "stdout",
          "text": [
            "Para una población = 35,000, se predice un beneficio de 2798.37\n",
            "\n",
            "Para una población de = 90,000, se predice un beneficio de 68415.22\n",
            "\n"
          ]
        }
      ]
    },
    {
      "cell_type": "markdown",
      "source": [
        "# Regresion lineal Multible"
      ],
      "metadata": {
        "id": "7hfHOQrlDICA"
      }
    },
    {
      "cell_type": "code",
      "source": [
        "def  featureNormalize(X):\n",
        "    X_norm = X.copy()\n",
        "    mu = np.zeros(X.shape[1])\n",
        "    sigma = np.zeros(X.shape[1])\n",
        "    \n",
        "    mu = np.mean(X, axis = 0)\n",
        "    sigma = np.std(X, axis = 0)\n",
        "    X_norm = (X - mu) / sigma\n",
        "    return X_norm, mu, sigma"
      ],
      "metadata": {
        "id": "-exvUgG7Fcgf"
      },
      "execution_count": null,
      "outputs": []
    },
    {
      "cell_type": "code",
      "source": [
        "def computeCostMulti(X, y, theta):\n",
        "    m = y.shape[0] # numero de ejemplos de entrenamiento\n",
        "    J = 0\n",
        "    h = np.dot(X, theta)\n",
        "    J = (1/(2 * m)) * np.sum(np.square(np.dot(X, theta) - y))\n",
        "    return J"
      ],
      "metadata": {
        "id": "eS2iZRc1E9oB"
      },
      "execution_count": null,
      "outputs": []
    },
    {
      "cell_type": "code",
      "source": [
        "def gradientDescentMulti(X, y, theta, alpha, num_iters):\n",
        "    m = y.shape[0] # numero de ejemplos de entrenamiento\n",
        "    theta = theta.copy()\n",
        "    J_history = []\n",
        "    for i in range(num_iters):\n",
        "        theta = theta - (alpha / m) * (np.dot(X, theta) - y).dot(X)\n",
        "        J_history.append(computeCostMulti(X, y, theta))\n",
        "    return theta, J_history"
      ],
      "metadata": {
        "id": "Y4wY070bE4_T"
      },
      "execution_count": null,
      "outputs": []
    },
    {
      "cell_type": "code",
      "source": [
        "#data = np.loadtxt(\"ex1data2.txt\",  delimiter=',')\n",
        "#X = data[:, :2]\n",
        "#y = data[:, 2]\n",
        "#m = y.size\n",
        "X_norm, mu, sigma = featureNormalize(X)\n",
        "X = np.concatenate([np.ones((m, 1)), X_norm], axis=1)\n",
        "# Elegir algun valor para alpha (probar varias alternativas)\n",
        "#alpha = 0.01\n",
        "#num_iters = 15000\n",
        "# inicializa theta y ejecuta el descenso por el gradiente\n",
        "#theta = np.zeros(3)\n",
        "#--------------------------------------------------------------------------------------------------------------------------------------------\n",
        "theta, J_history = gradientDescentMulti(X, y, theta, alpha, num_iters)\n",
        "# Grafica la convergencia del costo\n",
        "pyplot.plot(np.arange(len(J_history)), J_history, lw=2)\n",
        "pyplot.xlabel('Numero de iteraciones')\n",
        "pyplot.ylabel('Costo J')\n",
        "# Muestra los resultados del descenso por el gradiente\n",
        "print('theta calculado por el descenso por el gradiente: {:s}'.format(str(theta)))\n",
        "\n",
        "# Estimar el precio para una casa de 1650 sq-ft, con 3 dormitorios\n",
        "#X_array = [1, 1650, 3]\n",
        "X_array[1:Tamaño_de_columnas+1] = (X_array[1:Tamaño_de_columnas+1] - mu) / sigma\n",
        "price = np.dot(X_array, theta)   # Se debe cambiar esto\n",
        "print(\"Prediccion = \",price)\n",
        "print('El precio predecido para una casa de 1650 sq-ft y 3 dormitorios (usando el descenso por el gradiente): ${:.0f}'.format(price))"
      ],
      "metadata": {
        "colab": {
          "base_uri": "https://localhost:8080/",
          "height": 765
        },
        "id": "2aPi-y-KDOCh",
        "outputId": "33a0d764-004d-4232-ba85-80bc88fa492f"
      },
      "execution_count": null,
      "outputs": [
        {
          "output_type": "stream",
          "name": "stdout",
          "text": [
            "[[  1.0708  23.     154.25   ...  32.      27.4     17.1   ]\n",
            " [  1.0853  22.     173.25   ...  30.5     28.9     18.2   ]\n",
            " [  1.0414  22.     154.     ...  28.8     25.2     16.6   ]\n",
            " ...\n",
            " [  1.0328  72.     186.75   ...  31.3     27.2     18.    ]\n",
            " [  1.0399  72.     190.75   ...  30.5     29.4     19.8   ]\n",
            " [  1.0271  74.     207.5    ...  33.7     30.      20.9   ]]\n",
            "------------------------------------------\n",
            "[[ 1.          0.80164696 -1.74007329 ... -0.09067593 -0.62671828\n",
            "  -1.2125412 ]\n",
            " [ 1.          1.56506057 -1.81958344 ... -0.58814329  0.11707924\n",
            "  -0.0319426 ]\n",
            " [ 1.         -0.74623993 -1.81958344 ... -1.15193963 -1.71762131\n",
            "  -1.74917692]\n",
            " ...\n",
            " [ 1.         -1.19902317  2.15592399 ... -0.32282736 -0.72589128\n",
            "  -0.24659689]\n",
            " [ 1.         -0.82521375  2.15592399 ... -0.58814329  0.36501175\n",
            "   1.68529172]\n",
            " [ 1.         -1.49912369  2.31494429 ...  0.47312041  0.66253075\n",
            "   2.86589032]]\n",
            "FIN \n",
            "theta calculado por el descenso por el gradiente: [ 1.91507878e+01 -7.45352808e+00  1.53703401e-01 -6.05159783e-02\n",
            "  1.46869414e-02 -1.63888661e-01  1.14228918e-01  1.05969950e+00\n",
            " -7.85558457e-02  4.41765254e-02 -3.26497719e-02 -7.70269376e-02\n",
            " -1.12433654e-01  1.48905477e-01 -8.15691236e-02]\n",
            "Prediccion =  11.394903338092828\n",
            "El precio predecido para una casa de 1650 sq-ft y 3 dormitorios (usando el descenso por el gradiente): $11\n"
          ]
        },
        {
          "output_type": "display_data",
          "data": {
            "text/plain": [
              "<Figure size 432x288 with 1 Axes>"
            ],
            "image/png": "[encoded data removed]"
          },
          "metadata": {
            "needs_background": "light"
          }
        }
      ]
    },
    {
      "cell_type": "markdown",
      "source": [
        "## Ecuacion de la normal"
      ],
      "metadata": {
        "id": "8uIowVXEYwgr"
      }
    },
    {
      "cell_type": "code",
      "source": [
        "def normalEqn(X, y):\n",
        "    theta = np.zeros(X.shape[1])\n",
        "    theta = np.dot(np.dot(np.linalg.inv(np.dot(X.T,X)),X.T),y)\n",
        "    #print(\"---\",theta)\n",
        "    return theta"
      ],
      "metadata": {
        "id": "8x7tI0OGoIUC"
      },
      "execution_count": null,
      "outputs": []
    },
    {
      "cell_type": "code",
      "source": [
        "# Calcula los parametros con la ecuación de la normal\n",
        "theta = normalEqn(X, y);\n",
        "# Muestra los resultados optenidos a partir de la aplicación de la ecuación de la normal\n",
        "print('Theta calculado a partir de la ecuación de la normal: {:s}'.format(str(theta)));\n",
        "# Estimar el precio para una casa de superficie de 1650 sq-ft y tres dormitorios\n",
        "#X_array = [1, 1650, 3]\n",
        "#print(\"-----------------------\")\n",
        "price = np.dot(X_array, theta) \n",
        "print(\"Prediccion = \",price)\n",
        "print('Precio predecido para una cada de superficie de 1650 sq-ft y 3 dormitorios (usando la ecuación de la normal): ${:.0f}'.format(price))"
      ],
      "metadata": {
        "id": "cYToH2R3oJQL",
        "colab": {
          "base_uri": "https://localhost:8080/"
        },
        "outputId": "08621918-a6ce-430a-cb14-6b71ae836002"
      },
      "execution_count": null,
      "outputs": [
        {
          "output_type": "stream",
          "name": "stdout",
          "text": [
            "Theta calculado a partir de la ecuación de la normal: [ 1.91507937e+01 -7.81090196e+00  1.58306875e-01  2.94896448e-01\n",
            " -2.91742388e-02 -6.90362566e-02  2.25322559e-01  1.99788974e-01\n",
            "  1.37033912e-01 -8.78058641e-02 -1.11661528e-02 -1.44923482e-01\n",
            " -1.65993268e-01  6.82916394e-02  6.84350408e-03]\n",
            "Prediccion =  11.693180204740012\n",
            "Precio predecido para una cada de superficie de 1650 sq-ft y 3 dormitorios (usando la ecuación de la normal): $12\n"
          ]
        }
      ]
    },
    {
      "cell_type": "markdown",
      "source": [
        "# Regresion Logistica"
      ],
      "metadata": {
        "id": "pxC1nJJyaQS-"
      }
    },
    {
      "cell_type": "code",
      "source": [
        "def predict(theta, X):\n",
        "    m = X.shape[0] # Numero de ejemplo de entrenamiento\n",
        "    p = np.zeros(m)\n",
        "    p = np.round(sigmoid(X.dot(theta.T)))\n",
        "    return p"
      ],
      "metadata": {
        "id": "6f8NXWwxeAhG"
      },
      "execution_count": null,
      "outputs": []
    },
    {
      "cell_type": "code",
      "source": [
        "def costFunction(theta, X, y):\n",
        "    # Inicializar algunos valores utiles\n",
        "    m = y.size  # numero de ejemplos de entrenamiento\n",
        "    J = 0\n",
        "    grad = np.zeros(theta.shape)\n",
        "    h = sigmoid(X.dot(theta.T))\n",
        "    J = (1 / m) * np.sum(-y.dot(np.log(h)) - (1 - y).dot(np.log(1 - h)))\n",
        "    grad = (1 / m) * (h - y).dot(X)\n",
        "    return J, grad"
      ],
      "metadata": {
        "id": "w2cn7nk7d75F"
      },
      "execution_count": null,
      "outputs": []
    },
    {
      "cell_type": "code",
      "source": [
        "def sigmoid(z):\n",
        "    # Calcula la sigmoide de una entrada z\n",
        "    # convierte la entrada a un arreglo numpy\n",
        "    z = np.array(z)\n",
        "    g = np.zeros(z.shape)\n",
        "    g = 1 / (1 + np.exp(-z))\n",
        "    return g"
      ],
      "metadata": {
        "id": "BKcY60IPdlL-"
      },
      "execution_count": null,
      "outputs": []
    },
    {
      "cell_type": "code",
      "source": [
        "def calcularCosto(theta, X, y):\n",
        "    m = y.size  # numero de ejemplos de entrenamiento\n",
        "    J = 0\n",
        "    h = sigmoid(X.dot(theta.T))\n",
        "    J = (1 / m) * np.sum(-y.dot(np.log(h)) - (1 - y).dot(np.log(1 - h)))\n",
        "    return J"
      ],
      "metadata": {
        "id": "dQ-s_6UwB9Oh"
      },
      "execution_count": null,
      "outputs": []
    },
    {
      "cell_type": "code",
      "source": [
        "def descensoGradiente(theta, X, y, alpha, num_iters):\n",
        "    m = y.shape[0] # numero de ejemplos de entrenamiento\n",
        "    theta = theta.copy()\n",
        "    J_history = []\n",
        "    for i in range(num_iters):\n",
        "        h = sigmoid(X.dot(theta.T))\n",
        "        theta = theta - (alpha / m) * (h - y).dot(X)\n",
        "        J_history.append(calcularCosto(theta, X, y))\n",
        "    return theta, J_history"
      ],
      "metadata": {
        "id": "QKYt4EwZdbjM"
      },
      "execution_count": null,
      "outputs": []
    },
    {
      "cell_type": "code",
      "source": [],
      "metadata": {
        "id": "kDR2XqvNeFD1"
      },
      "execution_count": null,
      "outputs": []
    },
    {
      "cell_type": "code",
      "source": [
        "X = np.concatenate([np.ones((m, 1)), X], axis=1)\n",
        "theta, J_history = descensoGradiente(theta, X, y, alpha, num_iters)\n",
        "# Grafica la convergencia del costo\n",
        "pyplot.plot(np.arange(len(J_history)), J_history, lw=2)\n",
        "pyplot.xlabel('Numero de iteraciones')\n",
        "pyplot.ylabel('Costo J')\n",
        "# Muestra los resultados del descenso por el gradiente\n",
        "print('theta calculado por el descenso por el gradiente:')\n",
        "print(theta)\n",
        "# verificar si tiene diabetes o no\n",
        "aprueba = sigmoid(np.dot(X_array, theta))\n",
        "print(f\"La probabilidad de que la persona tenga DIABETES es de: (usando el descenso por el gradiente):{aprueba}\")"
      ],
      "metadata": {
        "colab": {
          "base_uri": "https://localhost:8080/",
          "height": 348
        },
        "id": "XFjc6zSrdU2U",
        "outputId": "3510e110-f57e-448d-84f7-2cd4983f0f17"
      },
      "execution_count": null,
      "outputs": [
        {
          "output_type": "stream",
          "name": "stdout",
          "text": [
            "theta calculado por el descenso por el gradiente:\n",
            "[-0.00022183 -0.00021875 -0.00150647 -0.00214874 -0.00246744  0.00470607\n",
            "  0.00327722]\n",
            "La probabilidad de que la persona tenga DIABETES es de: (usando el descenso por el gradiente):0.5273357707238263\n"
          ]
        },
        {
          "output_type": "display_data",
          "data": {
            "text/plain": [
              "<Figure size 432x288 with 1 Axes>"
            ],
            "image/png": "[encoded data removed]"
          },
          "metadata": {
            "needs_background": "light"
          }
        }
      ]
    },
    {
      "cell_type": "code",
      "source": [
        "# Inicializacion de parametros de ajuste\n",
        "initial_theta = np.zeros(n+1)\n",
        "cost, grad = costFunction(initial_theta, X, y)"
      ],
      "metadata": {
        "id": "_RrlkrcxgCec"
      },
      "execution_count": null,
      "outputs": []
    },
    {
      "cell_type": "code",
      "source": [
        "#  Predice la probabilidad de ingreso para un estudiante con nota de 45 en el examen 1 y nota de 85 en el examen 2\n",
        "prob = sigmoid(np.dot(X_array, theta))\n",
        "print(\"La probabilidad de que la persona tenga DIABETES es:\", prob*100, \" %\")\n",
        "# Compute accuracy on our training set\n",
        "p = predict(theta, X)\n",
        "print(\"Precisión de entrenamiento fue de: \", np.mean(p == y) * 100, \" %\")\n",
        "#70%"
      ],
      "metadata": {
        "colab": {
          "base_uri": "https://localhost:8080/"
        },
        "id": "pvyz8FvbcQ94",
        "outputId": "a26d7964-6d07-49ae-a108-81cbb53253fb"
      },
      "execution_count": null,
      "outputs": [
        {
          "output_type": "stream",
          "name": "stdout",
          "text": [
            "La probabilidad de que la persona tenga DIABETES es: 52.73357707238263  %\n",
            "Precisión de entrenamiento fue de:  53.16455696202531  %\n"
          ]
        }
      ]
    },
    {
      "cell_type": "markdown",
      "source": [
        "## Usando `scipy.optimize`"
      ],
      "metadata": {
        "id": "7gDwCW5H979o"
      }
    },
    {
      "cell_type": "code",
      "source": [
        "# Establecer las opciones para optimize.minimize\n",
        "options= {'maxiter': num_iters}\n",
        "# Se utiliza el algoritmo de Newton truncado para la optimización.\n",
        "res = optimize.minimize(costFunction,\n",
        "                        initial_theta,\n",
        "                        (X, y),\n",
        "                        jac=True,\n",
        "                        method='TNC',\n",
        "                        options=options)\n",
        "cost = res.fun\n",
        "theta = res.x\n",
        "\n",
        "# Imprimir theta en la pantalla\n",
        "print(\"Costo con un valor de theta encontrado por optimize.minimize fue de:\", cost)\n",
        "\n",
        "print('Theta obtenidos:')\n",
        "print(theta)"
      ],
      "metadata": {
        "colab": {
          "base_uri": "https://localhost:8080/"
        },
        "id": "MF73KBU8-CnC",
        "outputId": "2751fb65-ee76-4588-bb53-8ad95123891b"
      },
      "execution_count": null,
      "outputs": [
        {
          "output_type": "stream",
          "name": "stdout",
          "text": [
            "Costo con un valor de theta encontrado por optimize.minimize fue de: 0.3810092768390917\n",
            "Theta obtenidos:\n",
            "[-5.45483267e+02  5.44479144e+02 -3.14072895e-01 -5.04916087e-03\n",
            " -1.38430061e-01 -1.45208362e-02  7.13634253e-01]\n"
          ]
        }
      ]
    },
    {
      "cell_type": "code",
      "source": [
        "#  Predice la probabilidad de ingreso para un estudiante con nota de 45 en el examen 1 y nota de 85 en el examen 2\n",
        "prob = sigmoid(np.dot(X_array, theta))\n",
        "print(\"Probabilidad = \", prob)\n",
        "print(\"La probabilidad de que la persona tenga DIABETES es:\", prob*100,\" %\")\n",
        "p = predict(theta, X)\n",
        "print(\"Precisión de entrenamiento fue de:\", np.mean(p == y) * 100, \" %\")"
      ],
      "metadata": {
        "colab": {
          "base_uri": "https://localhost:8080/"
        },
        "id": "IoYrWgz2Dk1v",
        "outputId": "c412b677-8cbb-46af-ef26-57ae81da2b50"
      },
      "execution_count": null,
      "outputs": [
        {
          "output_type": "stream",
          "name": "stdout",
          "text": [
            "Probabilidad =  0.41905043004928944\n",
            "La probabilidad de que la persona tenga DIABETES es: 41.90504300492894  %\n",
            "Precisión de entrenamiento fue de: 83.54430379746836  %\n"
          ]
        }
      ]
    }
  ]
}